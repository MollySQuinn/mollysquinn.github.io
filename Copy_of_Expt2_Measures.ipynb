{
  "nbformat": 4,
  "nbformat_minor": 5,
  "metadata": {
    "kernelspec": {
      "display_name": "Python 3",
      "language": "python",
      "name": "python3"
    },
    "language_info": {
      "codemirror_mode": {
        "name": "ipython",
        "version": 3
      },
      "file_extension": ".py",
      "mimetype": "text/x-python",
      "name": "python",
      "nbconvert_exporter": "python",
      "pygments_lexer": "ipython3",
      "version": "3.6.8"
    },
    "toc": {
      "base_numbering": 1,
      "nav_menu": {},
      "number_sections": true,
      "sideBar": true,
      "skip_h1_title": false,
      "title_cell": "Table of Contents",
      "title_sidebar": "Contents",
      "toc_cell": false,
      "toc_position": {},
      "toc_section_display": true,
      "toc_window_display": true
    },
    "colab": {
      "name": "Copy of Expt2_Measures.ipynb",
      "provenance": [],
      "collapsed_sections": [],
      "include_colab_link": true
    }
  },
  "cells": [
    {
      "cell_type": "markdown",
      "metadata": {
        "id": "view-in-github",
        "colab_type": "text"
      },
      "source": [
        "<a href=\"https://colab.research.google.com/github/MollySQuinn/mollysquinn.github.io/blob/master/Copy_of_Expt2_Measures.ipynb\" target=\"_parent\"><img src=\"https://colab.research.google.com/assets/colab-badge.svg\" alt=\"Open In Colab\"/></a>"
      ]
    },
    {
      "cell_type": "code",
      "metadata": {
        "id": "J3ZGGJES_dRN"
      },
      "source": [
        "import pandas as pd\n",
        "from scipy.stats import ttest_rel, spearmanr\n"
      ],
      "id": "J3ZGGJES_dRN",
      "execution_count": 16,
      "outputs": []
    },
    {
      "cell_type": "markdown",
      "metadata": {
        "id": "important-uniform"
      },
      "source": [
        "# 3 Types of Measures\n",
        "1. Diversity\n",
        "2. Mutability\n",
        "3. Subsumption"
      ],
      "id": "important-uniform"
    },
    {
      "cell_type": "code",
      "metadata": {
        "id": "H_SItwOE_QfY"
      },
      "source": [
        "#get the data\n",
        "expt1 = pd.read_csv('00.dublin18_combined_post_resolve.csv')\n",
        "#get the answer category labels\n",
        "labels = pd.read_csv('expt1_2_labels.csv')\n",
        "#get the material scenarios\n",
        "material_prompts = pd.read_csv('material_prompts_expt_1_2.csv')"
      ],
      "id": "H_SItwOE_QfY",
      "execution_count": 10,
      "outputs": []
    },
    {
      "cell_type": "code",
      "metadata": {
        "id": "68aZIP56IDiC"
      },
      "source": [
        "materials = material_prompts['material'].unique()"
      ],
      "id": "68aZIP56IDiC",
      "execution_count": 11,
      "outputs": []
    },
    {
      "cell_type": "markdown",
      "metadata": {
        "id": "zi4SQokdw34C"
      },
      "source": [
        "# Diversity"
      ],
      "id": "zi4SQokdw34C"
    },
    {
      "cell_type": "markdown",
      "metadata": {
        "id": "compressed-parliament"
      },
      "source": [
        "## Foster Diversity; \n",
        "Why some surprises are more surprising than others: Surprise as a metacognitive sense of explanatory difficulty (Foster & Keane 2015)\n",
        "\n",
        "\"Proportion-of-agreement was determined by classifying all the explanations produced by  a group and noting the proportion of times a given explanation was produced within the total set of explanations for each scenario. For example, in the Louise-handbag scenario, if the ‘‘robbery” explanation was produced by 10 of 20 participants in the experiment then it would be assigned a 0.50 proportion-of-agreement score. Having scored the explanations produced in the explanation conditions in this way, we conducted a paired t-test on the Outcome-Type variable, using these proportion-of-agreement scores as the dependent measure.\"\n",
        "\n",
        "Seemed to do a pair t-test on the set of answers (as participants) comparing the p-o-a score for each, then reported a mean-poa.  Still worth computing to check.\n",
        "\n"
      ],
      "id": "compressed-parliament"
    },
    {
      "cell_type": "code",
      "metadata": {
        "id": "MwBMuRnw_OrA",
        "colab": {
          "base_uri": "https://localhost:8080/",
          "height": 421
        },
        "outputId": "30518376-f102-443d-fac4-0106287bf61a"
      },
      "source": [
        "#first, group by material and answer category, get counts\n",
        "prop_agree = expt1.groupby(['material','var_feature1'])['best_ans'].value_counts(normalize=True).reset_index(name='prop_agree')\n",
        "\n",
        "#enter zeroes for unused categories in each group\n",
        "for mat in materials:\n",
        "  cats = expt1[expt1['material']==mat]['best_ans'].unique()\n",
        "\n",
        "  for group in ['UNEXP','UNEXP-GOOD','UNEXP-BAD','GOAL-FAIL']:\n",
        "    prior_cats = list(prop_agree[\n",
        "                    (prop_agree['material']==mat) &\n",
        "                    (prop_agree['var_feature1']==group)\n",
        "                    ]['best_ans']\n",
        "         )\n",
        "    \n",
        "    for cat in set(cats).difference(prior_cats):\n",
        "      prop_agree.loc[prop_agree.shape[0]] = [mat, group, cat, 0.0] #add to bottom and fill zero\n",
        "\n",
        "prop_agree[\n",
        "           (prop_agree['material']=='alan_plane') &\n",
        "           (prop_agree['var_feature1']=='GOAL-FAIL')\n",
        "           ]"
      ],
      "id": "MwBMuRnw_OrA",
      "execution_count": 12,
      "outputs": [
        {
          "output_type": "execute_result",
          "data": {
            "text/html": [
              "<div>\n",
              "<style scoped>\n",
              "    .dataframe tbody tr th:only-of-type {\n",
              "        vertical-align: middle;\n",
              "    }\n",
              "\n",
              "    .dataframe tbody tr th {\n",
              "        vertical-align: top;\n",
              "    }\n",
              "\n",
              "    .dataframe thead th {\n",
              "        text-align: right;\n",
              "    }\n",
              "</style>\n",
              "<table border=\"1\" class=\"dataframe\">\n",
              "  <thead>\n",
              "    <tr style=\"text-align: right;\">\n",
              "      <th></th>\n",
              "      <th>material</th>\n",
              "      <th>var_feature1</th>\n",
              "      <th>best_ans</th>\n",
              "      <th>prop_agree</th>\n",
              "    </tr>\n",
              "  </thead>\n",
              "  <tbody>\n",
              "    <tr>\n",
              "      <th>0</th>\n",
              "      <td>alan_plane</td>\n",
              "      <td>GOAL-FAIL</td>\n",
              "      <td>ap_neg_ans6</td>\n",
              "      <td>0.466667</td>\n",
              "    </tr>\n",
              "    <tr>\n",
              "      <th>1</th>\n",
              "      <td>alan_plane</td>\n",
              "      <td>GOAL-FAIL</td>\n",
              "      <td>ap_neg_ans5</td>\n",
              "      <td>0.200000</td>\n",
              "    </tr>\n",
              "    <tr>\n",
              "      <th>2</th>\n",
              "      <td>alan_plane</td>\n",
              "      <td>GOAL-FAIL</td>\n",
              "      <td>ap_other</td>\n",
              "      <td>0.133333</td>\n",
              "    </tr>\n",
              "    <tr>\n",
              "      <th>3</th>\n",
              "      <td>alan_plane</td>\n",
              "      <td>GOAL-FAIL</td>\n",
              "      <td>ap_neg_ans3</td>\n",
              "      <td>0.100000</td>\n",
              "    </tr>\n",
              "    <tr>\n",
              "      <th>4</th>\n",
              "      <td>alan_plane</td>\n",
              "      <td>GOAL-FAIL</td>\n",
              "      <td>ap_neg_ans1</td>\n",
              "      <td>0.066667</td>\n",
              "    </tr>\n",
              "    <tr>\n",
              "      <th>5</th>\n",
              "      <td>alan_plane</td>\n",
              "      <td>GOAL-FAIL</td>\n",
              "      <td>ap_neg_ans2</td>\n",
              "      <td>0.033333</td>\n",
              "    </tr>\n",
              "    <tr>\n",
              "      <th>510</th>\n",
              "      <td>alan_plane</td>\n",
              "      <td>GOAL-FAIL</td>\n",
              "      <td>ap_pos_ans1</td>\n",
              "      <td>0.000000</td>\n",
              "    </tr>\n",
              "    <tr>\n",
              "      <th>511</th>\n",
              "      <td>alan_plane</td>\n",
              "      <td>GOAL-FAIL</td>\n",
              "      <td>ap_pos_ans5</td>\n",
              "      <td>0.000000</td>\n",
              "    </tr>\n",
              "    <tr>\n",
              "      <th>512</th>\n",
              "      <td>alan_plane</td>\n",
              "      <td>GOAL-FAIL</td>\n",
              "      <td>ap_neg_ans4</td>\n",
              "      <td>0.000000</td>\n",
              "    </tr>\n",
              "    <tr>\n",
              "      <th>513</th>\n",
              "      <td>alan_plane</td>\n",
              "      <td>GOAL-FAIL</td>\n",
              "      <td>ap_pos_ans4</td>\n",
              "      <td>0.000000</td>\n",
              "    </tr>\n",
              "    <tr>\n",
              "      <th>514</th>\n",
              "      <td>alan_plane</td>\n",
              "      <td>GOAL-FAIL</td>\n",
              "      <td>ap_pos_ans3</td>\n",
              "      <td>0.000000</td>\n",
              "    </tr>\n",
              "    <tr>\n",
              "      <th>515</th>\n",
              "      <td>alan_plane</td>\n",
              "      <td>GOAL-FAIL</td>\n",
              "      <td>ap_pos_ans2</td>\n",
              "      <td>0.000000</td>\n",
              "    </tr>\n",
              "  </tbody>\n",
              "</table>\n",
              "</div>"
            ],
            "text/plain": [
              "       material var_feature1     best_ans  prop_agree\n",
              "0    alan_plane    GOAL-FAIL  ap_neg_ans6    0.466667\n",
              "1    alan_plane    GOAL-FAIL  ap_neg_ans5    0.200000\n",
              "2    alan_plane    GOAL-FAIL     ap_other    0.133333\n",
              "3    alan_plane    GOAL-FAIL  ap_neg_ans3    0.100000\n",
              "4    alan_plane    GOAL-FAIL  ap_neg_ans1    0.066667\n",
              "5    alan_plane    GOAL-FAIL  ap_neg_ans2    0.033333\n",
              "510  alan_plane    GOAL-FAIL  ap_pos_ans1    0.000000\n",
              "511  alan_plane    GOAL-FAIL  ap_pos_ans5    0.000000\n",
              "512  alan_plane    GOAL-FAIL  ap_neg_ans4    0.000000\n",
              "513  alan_plane    GOAL-FAIL  ap_pos_ans4    0.000000\n",
              "514  alan_plane    GOAL-FAIL  ap_pos_ans3    0.000000\n",
              "515  alan_plane    GOAL-FAIL  ap_pos_ans2    0.000000"
            ]
          },
          "metadata": {},
          "execution_count": 12
        }
      ]
    },
    {
      "cell_type": "code",
      "metadata": {
        "colab": {
          "base_uri": "https://localhost:8080/",
          "height": 421
        },
        "id": "JifCUAY8kL44",
        "outputId": "451123d3-3ec5-4a81-bf5d-5108bfc684bb"
      },
      "source": [
        "prop_agree[\n",
        "           (prop_agree['material']=='alan_plane') &\n",
        "           (prop_agree['var_feature1']=='UNEXP')\n",
        "           ]"
      ],
      "id": "JifCUAY8kL44",
      "execution_count": 13,
      "outputs": [
        {
          "output_type": "execute_result",
          "data": {
            "text/html": [
              "<div>\n",
              "<style scoped>\n",
              "    .dataframe tbody tr th:only-of-type {\n",
              "        vertical-align: middle;\n",
              "    }\n",
              "\n",
              "    .dataframe tbody tr th {\n",
              "        vertical-align: top;\n",
              "    }\n",
              "\n",
              "    .dataframe thead th {\n",
              "        text-align: right;\n",
              "    }\n",
              "</style>\n",
              "<table border=\"1\" class=\"dataframe\">\n",
              "  <thead>\n",
              "    <tr style=\"text-align: right;\">\n",
              "      <th></th>\n",
              "      <th>material</th>\n",
              "      <th>var_feature1</th>\n",
              "      <th>best_ans</th>\n",
              "      <th>prop_agree</th>\n",
              "    </tr>\n",
              "  </thead>\n",
              "  <tbody>\n",
              "    <tr>\n",
              "      <th>6</th>\n",
              "      <td>alan_plane</td>\n",
              "      <td>UNEXP</td>\n",
              "      <td>ap_neg_ans1</td>\n",
              "      <td>0.28125</td>\n",
              "    </tr>\n",
              "    <tr>\n",
              "      <th>7</th>\n",
              "      <td>alan_plane</td>\n",
              "      <td>UNEXP</td>\n",
              "      <td>ap_neg_ans6</td>\n",
              "      <td>0.18750</td>\n",
              "    </tr>\n",
              "    <tr>\n",
              "      <th>8</th>\n",
              "      <td>alan_plane</td>\n",
              "      <td>UNEXP</td>\n",
              "      <td>ap_neg_ans2</td>\n",
              "      <td>0.12500</td>\n",
              "    </tr>\n",
              "    <tr>\n",
              "      <th>9</th>\n",
              "      <td>alan_plane</td>\n",
              "      <td>UNEXP</td>\n",
              "      <td>ap_neg_ans3</td>\n",
              "      <td>0.12500</td>\n",
              "    </tr>\n",
              "    <tr>\n",
              "      <th>10</th>\n",
              "      <td>alan_plane</td>\n",
              "      <td>UNEXP</td>\n",
              "      <td>ap_other</td>\n",
              "      <td>0.09375</td>\n",
              "    </tr>\n",
              "    <tr>\n",
              "      <th>11</th>\n",
              "      <td>alan_plane</td>\n",
              "      <td>UNEXP</td>\n",
              "      <td>ap_pos_ans2</td>\n",
              "      <td>0.09375</td>\n",
              "    </tr>\n",
              "    <tr>\n",
              "      <th>12</th>\n",
              "      <td>alan_plane</td>\n",
              "      <td>UNEXP</td>\n",
              "      <td>ap_neg_ans4</td>\n",
              "      <td>0.06250</td>\n",
              "    </tr>\n",
              "    <tr>\n",
              "      <th>13</th>\n",
              "      <td>alan_plane</td>\n",
              "      <td>UNEXP</td>\n",
              "      <td>ap_neg_ans5</td>\n",
              "      <td>0.03125</td>\n",
              "    </tr>\n",
              "    <tr>\n",
              "      <th>494</th>\n",
              "      <td>alan_plane</td>\n",
              "      <td>UNEXP</td>\n",
              "      <td>ap_pos_ans1</td>\n",
              "      <td>0.00000</td>\n",
              "    </tr>\n",
              "    <tr>\n",
              "      <th>495</th>\n",
              "      <td>alan_plane</td>\n",
              "      <td>UNEXP</td>\n",
              "      <td>ap_pos_ans5</td>\n",
              "      <td>0.00000</td>\n",
              "    </tr>\n",
              "    <tr>\n",
              "      <th>496</th>\n",
              "      <td>alan_plane</td>\n",
              "      <td>UNEXP</td>\n",
              "      <td>ap_pos_ans3</td>\n",
              "      <td>0.00000</td>\n",
              "    </tr>\n",
              "    <tr>\n",
              "      <th>497</th>\n",
              "      <td>alan_plane</td>\n",
              "      <td>UNEXP</td>\n",
              "      <td>ap_pos_ans4</td>\n",
              "      <td>0.00000</td>\n",
              "    </tr>\n",
              "  </tbody>\n",
              "</table>\n",
              "</div>"
            ],
            "text/plain": [
              "       material var_feature1     best_ans  prop_agree\n",
              "6    alan_plane        UNEXP  ap_neg_ans1     0.28125\n",
              "7    alan_plane        UNEXP  ap_neg_ans6     0.18750\n",
              "8    alan_plane        UNEXP  ap_neg_ans2     0.12500\n",
              "9    alan_plane        UNEXP  ap_neg_ans3     0.12500\n",
              "10   alan_plane        UNEXP     ap_other     0.09375\n",
              "11   alan_plane        UNEXP  ap_pos_ans2     0.09375\n",
              "12   alan_plane        UNEXP  ap_neg_ans4     0.06250\n",
              "13   alan_plane        UNEXP  ap_neg_ans5     0.03125\n",
              "494  alan_plane        UNEXP  ap_pos_ans1     0.00000\n",
              "495  alan_plane        UNEXP  ap_pos_ans5     0.00000\n",
              "496  alan_plane        UNEXP  ap_pos_ans3     0.00000\n",
              "497  alan_plane        UNEXP  ap_pos_ans4     0.00000"
            ]
          },
          "metadata": {},
          "execution_count": 13
        }
      ]
    },
    {
      "cell_type": "code",
      "metadata": {
        "colab": {
          "base_uri": "https://localhost:8080/"
        },
        "id": "oO_86L8YIwxt",
        "outputId": "dc8a6a9b-808d-4c2a-a70a-b37bac33d07a"
      },
      "source": [
        "x = prop_agree[\n",
        "               (prop_agree['material']=='alan_plane') &\n",
        "               (prop_agree['var_feature1']=='UNEXP')\n",
        "               ].set_index('best_ans').sort_index(axis=0)\n",
        "y = prop_agree[\n",
        "               (prop_agree['material']=='alan_plane') &\n",
        "               (prop_agree['var_feature1']=='GOAL-FAIL')\n",
        "               ].set_index('best_ans').sort_index(axis=0)\n",
        "\n",
        "print(x)\n",
        "print()\n",
        "print(y)\n",
        "print()\n",
        "print(ttest_rel(x['prop_agree'],y['prop_agree']))\n",
        "print(spearmanr(x['prop_agree'],y['prop_agree']))"
      ],
      "id": "oO_86L8YIwxt",
      "execution_count": 21,
      "outputs": [
        {
          "output_type": "stream",
          "name": "stdout",
          "text": [
            "               material var_feature1  prop_agree\n",
            "best_ans                                        \n",
            "ap_neg_ans1  alan_plane        UNEXP     0.28125\n",
            "ap_neg_ans2  alan_plane        UNEXP     0.12500\n",
            "ap_neg_ans3  alan_plane        UNEXP     0.12500\n",
            "ap_neg_ans4  alan_plane        UNEXP     0.06250\n",
            "ap_neg_ans5  alan_plane        UNEXP     0.03125\n",
            "ap_neg_ans6  alan_plane        UNEXP     0.18750\n",
            "ap_other     alan_plane        UNEXP     0.09375\n",
            "ap_pos_ans1  alan_plane        UNEXP     0.00000\n",
            "ap_pos_ans2  alan_plane        UNEXP     0.09375\n",
            "ap_pos_ans3  alan_plane        UNEXP     0.00000\n",
            "ap_pos_ans4  alan_plane        UNEXP     0.00000\n",
            "ap_pos_ans5  alan_plane        UNEXP     0.00000\n",
            "\n",
            "               material var_feature1  prop_agree\n",
            "best_ans                                        \n",
            "ap_neg_ans1  alan_plane    GOAL-FAIL    0.066667\n",
            "ap_neg_ans2  alan_plane    GOAL-FAIL    0.033333\n",
            "ap_neg_ans3  alan_plane    GOAL-FAIL    0.100000\n",
            "ap_neg_ans4  alan_plane    GOAL-FAIL    0.000000\n",
            "ap_neg_ans5  alan_plane    GOAL-FAIL    0.200000\n",
            "ap_neg_ans6  alan_plane    GOAL-FAIL    0.466667\n",
            "ap_other     alan_plane    GOAL-FAIL    0.133333\n",
            "ap_pos_ans1  alan_plane    GOAL-FAIL    0.000000\n",
            "ap_pos_ans2  alan_plane    GOAL-FAIL    0.000000\n",
            "ap_pos_ans3  alan_plane    GOAL-FAIL    0.000000\n",
            "ap_pos_ans4  alan_plane    GOAL-FAIL    0.000000\n",
            "ap_pos_ans5  alan_plane    GOAL-FAIL    0.000000\n",
            "\n",
            "Ttest_relResult(statistic=0.0, pvalue=1.0)\n",
            "SpearmanrResult(correlation=0.6501480153866405, pvalue=0.022089259132923315)\n"
          ]
        }
      ]
    },
    {
      "cell_type": "code",
      "metadata": {
        "colab": {
          "base_uri": "https://localhost:8080/"
        },
        "id": "0kXg6wMIkfV6",
        "outputId": "10943f70-4cce-41d5-c845-ea227ad01f91"
      },
      "source": [
        "for mat in materials:\n",
        "  unexp = prop_agree[\n",
        "                  (prop_agree['material']==mat) &\n",
        "                  (prop_agree['var_feature1']=='UNEXP')\n",
        "                  ].set_index('best_ans').sort_index(axis=0)\n",
        "  fail = prop_agree[\n",
        "                  (prop_agree['material']==mat) &\n",
        "                  (prop_agree['var_feature1']=='GOAL-FAIL')\n",
        "                  ].set_index('best_ans').sort_index(axis=0)\n",
        "  good = prop_agree[\n",
        "                  (prop_agree['material']==mat) &\n",
        "                  (prop_agree['var_feature1']=='UNEXP-GOOD')\n",
        "                  ].set_index('best_ans').sort_index(axis=0)\n",
        "  bad = prop_agree[\n",
        "                  (prop_agree['material']==mat) &\n",
        "                  (prop_agree['var_feature1']=='UNEXP-BAD')\n",
        "                  ].set_index('best_ans').sort_index(axis=0)\n",
        "\n",
        "  print(mat)\n",
        "  # print(ttest_rel(unexp['prop_agree'],fail['prop_agree']))\n",
        "  # print(ttest_rel(unexp['prop_agree'],good['prop_agree']))\n",
        "  # print(ttest_rel(unexp['prop_agree'],bad['prop_agree']))\n",
        "  # print(ttest_rel(fail['prop_agree'],good['prop_agree']))\n",
        "  # print(ttest_rel(fail['prop_agree'],bad['prop_agree']))\n",
        "  # print(ttest_rel(good['prop_agree'],bad['prop_agree']))\n",
        "  print(\"Unexp vs Goal-Fail\", spearmanr(unexp['prop_agree'],fail['prop_agree']))\n",
        "  print(\"Unexp vs Good\", spearmanr(unexp['prop_agree'],good['prop_agree']))\n",
        "  print(\"Unexp vs Bad\", spearmanr(unexp['prop_agree'],bad['prop_agree']))\n",
        "  print(\"Goal-Fail vs Good\", spearmanr(fail['prop_agree'],good['prop_agree']))\n",
        "  print(\"Goal-Fail vs Bad\", spearmanr(fail['prop_agree'],bad['prop_agree']))\n",
        "  print(\"Good vs Bad\", spearmanr(good['prop_agree'],bad['prop_agree']))"
      ],
      "id": "0kXg6wMIkfV6",
      "execution_count": 20,
      "outputs": [
        {
          "output_type": "stream",
          "name": "stdout",
          "text": [
            "alan_plane\n",
            "Unexp vs Goal-Fail SpearmanrResult(correlation=0.6501480153866405, pvalue=0.022089259132923315)\n",
            "Unexp vs Good SpearmanrResult(correlation=-0.4259726744636505, pvalue=0.1673628564835292)\n",
            "Unexp vs Bad SpearmanrResult(correlation=0.7006225289633738, pvalue=0.011154036734261)\n",
            "Goal-Fail vs Good SpearmanrResult(correlation=-0.3753998158199344, pvalue=0.2291735276891534)\n",
            "Goal-Fail vs Bad SpearmanrResult(correlation=0.8592363042645625, pvalue=0.0003419769825323954)\n",
            "Good vs Bad SpearmanrResult(correlation=-0.4213808354105098, pvalue=0.1724843724047799)\n",
            "anna_interview\n",
            "Unexp vs Goal-Fail SpearmanrResult(correlation=0.5147262517891064, pvalue=0.12792200091336275)\n",
            "Unexp vs Good SpearmanrResult(correlation=-0.32258735880781825, pvalue=0.36330158960547193)\n",
            "Unexp vs Bad SpearmanrResult(correlation=0.6916752809520368, pvalue=0.026705693572547467)\n",
            "Goal-Fail vs Good SpearmanrResult(correlation=-0.9049618105525379, pvalue=0.0003178046212511225)\n",
            "Goal-Fail vs Bad SpearmanrResult(correlation=0.7351518845982957, pvalue=0.015411136942549976)\n",
            "Good vs Bad SpearmanrResult(correlation=-0.6749495855669096, pvalue=0.03225018970110769)\n",
            "belinda_meeting\n",
            "Unexp vs Goal-Fail SpearmanrResult(correlation=0.5160967133680323, pvalue=0.10412502891205479)\n",
            "Unexp vs Good SpearmanrResult(correlation=0.39194561830451136, pvalue=0.233191699850837)\n",
            "Unexp vs Bad SpearmanrResult(correlation=0.06344181314217559, pvalue=0.8529856587119259)\n",
            "Goal-Fail vs Good SpearmanrResult(correlation=-0.18401868452464437, pvalue=0.5880672786319239)\n",
            "Goal-Fail vs Bad SpearmanrResult(correlation=0.2506030822809364, pvalue=0.4573240782859337)\n",
            "Good vs Bad SpearmanrResult(correlation=-0.8272513132146304, pvalue=0.0016778547046520818)\n",
            "bill_holiday\n",
            "Unexp vs Goal-Fail SpearmanrResult(correlation=0.5392160560327622, pvalue=0.07042339046034966)\n",
            "Unexp vs Good SpearmanrResult(correlation=-0.5397845494253811, pvalue=0.07006999366022923)\n",
            "Unexp vs Bad SpearmanrResult(correlation=0.6544967300811457, pvalue=0.020923620246087047)\n",
            "Goal-Fail vs Good SpearmanrResult(correlation=-0.3503352905406587, pvalue=0.2642393575045658)\n",
            "Goal-Fail vs Bad SpearmanrResult(correlation=0.8396946564885496, pvalue=0.0006328281058623624)\n",
            "Good vs Bad SpearmanrResult(correlation=-0.43180861392220726, pvalue=0.1609936319223803)\n",
            "bob_job\n",
            "Unexp vs Goal-Fail SpearmanrResult(correlation=0.25, pvalue=0.5504150390625)\n",
            "Unexp vs Good SpearmanrResult(correlation=0.472972972972973, pvalue=0.23655686296635398)\n",
            "Unexp vs Bad SpearmanrResult(correlation=-0.08501272771022875, pvalue=0.8413674715453239)\n",
            "Goal-Fail vs Good SpearmanrResult(correlation=0.3243243243243243, pvalue=0.433189333282495)\n",
            "Goal-Fail vs Bad SpearmanrResult(correlation=-0.39890587617876566, pvalue=0.3276090333177992)\n",
            "Good vs Bad SpearmanrResult(correlation=-0.8108906335437203, pvalue=0.014600163813899185)\n",
            "edith_exam\n",
            "Unexp vs Goal-Fail SpearmanrResult(correlation=0.5974144784323446, pvalue=0.04024076732359757)\n",
            "Unexp vs Good SpearmanrResult(correlation=-0.6717655679912736, pvalue=0.016733767043340706)\n",
            "Unexp vs Bad SpearmanrResult(correlation=0.8972105077880439, pvalue=7.58756291888197e-05)\n",
            "Goal-Fail vs Good SpearmanrResult(correlation=-0.5978204688508911, pvalue=0.04007013389600959)\n",
            "Goal-Fail vs Bad SpearmanrResult(correlation=0.6726560305670107, pvalue=0.016535951805442664)\n",
            "Good vs Bad SpearmanrResult(correlation=-0.6395232554188995, pvalue=0.025135180966319465)\n",
            "john_party\n",
            "Unexp vs Goal-Fail SpearmanrResult(correlation=0.28689144977297254, pvalue=0.3659404284783786)\n",
            "Unexp vs Good SpearmanrResult(correlation=-0.2542735697040414, pvalue=0.425149069111758)\n",
            "Unexp vs Bad SpearmanrResult(correlation=0.3791146597788065, pvalue=0.22422659321120822)\n",
            "Goal-Fail vs Good SpearmanrResult(correlation=-0.322001319278411, pvalue=0.307396608003797)\n",
            "Goal-Fail vs Bad SpearmanrResult(correlation=0.6650144542958765, pvalue=0.018290530386588642)\n",
            "Good vs Bad SpearmanrResult(correlation=-0.7279278174036504, pvalue=0.007275960606952038)\n",
            "karen_bus\n",
            "Unexp vs Goal-Fail SpearmanrResult(correlation=0.8249579113843054, pvalue=0.00330584528128874)\n",
            "Unexp vs Good SpearmanrResult(correlation=0.30013477886307066, pvalue=0.3994693239622965)\n",
            "Unexp vs Bad SpearmanrResult(correlation=0.11079500489131466, pvalue=0.7605892261329297)\n",
            "Goal-Fail vs Good SpearmanrResult(correlation=0.027681826617913317, pvalue=0.939492384472463)\n",
            "Goal-Fail vs Bad SpearmanrResult(correlation=0.3122563985598348, pvalue=0.3797344568685507)\n",
            "Good vs Bad SpearmanrResult(correlation=-0.7628874838610185, pvalue=0.010269869328227139)\n",
            "katie_kitten\n",
            "Unexp vs Goal-Fail SpearmanrResult(correlation=-0.3886426915527259, pvalue=0.23750406491767098)\n",
            "Unexp vs Good SpearmanrResult(correlation=0.07287444350588206, pvalue=0.831380075000173)\n",
            "Unexp vs Bad SpearmanrResult(correlation=0.6659440915495339, pvalue=0.025286581432773802)\n",
            "Goal-Fail vs Good SpearmanrResult(correlation=-0.12278615588265672, pvalue=0.7190998128663415)\n",
            "Goal-Fail vs Bad SpearmanrResult(correlation=-0.25377156994531463, pvalue=0.45146282337194277)\n",
            "Good vs Bad SpearmanrResult(correlation=-0.21410743995012374, pvalue=0.5272715987409167)\n",
            "louise_shopping\n",
            "Unexp vs Goal-Fail SpearmanrResult(correlation=0.3894810992789337, pvalue=0.26591466515763246)\n",
            "Unexp vs Good SpearmanrResult(correlation=-0.24675324675324675, pvalue=0.4919092669234755)\n",
            "Unexp vs Bad SpearmanrResult(correlation=0.42625012815880403, pvalue=0.21931968325450416)\n",
            "Goal-Fail vs Good SpearmanrResult(correlation=-0.5707912661846444, pvalue=0.08484015871654363)\n",
            "Goal-Fail vs Bad SpearmanrResult(correlation=0.8476963112199576, pvalue=0.0019505403616687843)\n",
            "Good vs Bad SpearmanrResult(correlation=-0.7705290778255305, pvalue=0.009099300671305282)\n",
            "lucy_loan\n",
            "Unexp vs Goal-Fail SpearmanrResult(correlation=0.39139018192821845, pvalue=0.44289252903232157)\n",
            "Unexp vs Good SpearmanrResult(correlation=0.1323529411764706, pvalue=0.8026298213922247)\n",
            "Unexp vs Bad SpearmanrResult(correlation=0.7717436331412897, pvalue=0.07220526456911121)\n",
            "Goal-Fail vs Good SpearmanrResult(correlation=-0.7984359711335657, pvalue=0.056847509098475565)\n",
            "Goal-Fail vs Bad SpearmanrResult(correlation=0.8215838362577491, pvalue=0.0449087903503666)\n",
            "Good vs Bad SpearmanrResult(correlation=-0.4115966043420212, pvalue=0.4174697470312336)\n",
            "mary_food\n",
            "Unexp vs Goal-Fail SpearmanrResult(correlation=0.3145164016523968, pvalue=0.44801781136815266)\n",
            "Unexp vs Good SpearmanrResult(correlation=-0.481518178366675, pvalue=0.22700205855761624)\n",
            "Unexp vs Bad SpearmanrResult(correlation=0.9242930987335742, pvalue=0.0010241298221271816)\n",
            "Goal-Fail vs Good SpearmanrResult(correlation=-0.6368471750147946, pvalue=0.08948937611340983)\n",
            "Goal-Fail vs Bad SpearmanrResult(correlation=0.5472972972972973, pvalue=0.16032149524839878)\n",
            "Good vs Bad SpearmanrResult(correlation=-0.5588658882782891, pvalue=0.14987128294979485)\n",
            "michael_tea\n",
            "Unexp vs Goal-Fail SpearmanrResult(correlation=0.03841893751976493, pvalue=0.9056392185213085)\n",
            "Unexp vs Good SpearmanrResult(correlation=0.12416898480725183, pvalue=0.7006230829112219)\n",
            "Unexp vs Bad SpearmanrResult(correlation=0.6570762944771502, pvalue=0.02025376368214905)\n",
            "Goal-Fail vs Good SpearmanrResult(correlation=-0.4253694046764325, pvalue=0.1680301737399962)\n",
            "Goal-Fail vs Bad SpearmanrResult(correlation=0.1529202909512514, pvalue=0.6351622013704561)\n",
            "Good vs Bad SpearmanrResult(correlation=-0.37759837340294505, pvalue=0.22623797083650146)\n",
            "peter_college\n",
            "Unexp vs Goal-Fail SpearmanrResult(correlation=0.4000988020269484, pvalue=0.2859749522346113)\n",
            "Unexp vs Good SpearmanrResult(correlation=-0.567167786431578, pvalue=0.1112457174300948)\n",
            "Unexp vs Bad SpearmanrResult(correlation=0.8304347826086957, pvalue=0.005576499166975786)\n",
            "Goal-Fail vs Good SpearmanrResult(correlation=-0.6027460097699345, pvalue=0.08580153129755877)\n",
            "Goal-Fail vs Bad SpearmanrResult(correlation=0.7512966393617142, pvalue=0.01960955976239257)\n",
            "Good vs Bad SpearmanrResult(correlation=-0.7592009739635296, pvalue=0.017661539670706328)\n",
            "rebecca_swimming\n",
            "Unexp vs Goal-Fail SpearmanrResult(correlation=0.41218004097100314, pvalue=0.18303961754887527)\n",
            "Unexp vs Good SpearmanrResult(correlation=-0.4646323302464907, pvalue=0.12804870272750435)\n",
            "Unexp vs Bad SpearmanrResult(correlation=0.7625350024063201, pvalue=0.003927953344284653)\n",
            "Goal-Fail vs Good SpearmanrResult(correlation=-0.36209161995787853, pvalue=0.2474262041435907)\n",
            "Goal-Fail vs Bad SpearmanrResult(correlation=0.1253080879493111, pvalue=0.6979902639728134)\n",
            "Good vs Bad SpearmanrResult(correlation=-0.712921892579323, pvalue=0.00925416534256209)\n",
            "robert_essay\n",
            "Unexp vs Goal-Fail SpearmanrResult(correlation=0.7731721435648321, pvalue=0.0019371519990071997)\n",
            "Unexp vs Good SpearmanrResult(correlation=-0.5601743271145507, pvalue=0.046471805996374904)\n",
            "Unexp vs Bad SpearmanrResult(correlation=0.8305835206880143, pvalue=0.000437981527711462)\n",
            "Goal-Fail vs Good SpearmanrResult(correlation=-0.5830983235876778, pvalue=0.03646914356873988)\n",
            "Goal-Fail vs Bad SpearmanrResult(correlation=0.8138781883006373, pvalue=0.0007100066119658697)\n",
            "Good vs Bad SpearmanrResult(correlation=-0.673325554817467, pvalue=0.011646058863645272)\n",
            "sally_wine\n",
            "Unexp vs Goal-Fail SpearmanrResult(correlation=0.013446628131917725, pvalue=0.966916665016633)\n",
            "Unexp vs Good SpearmanrResult(correlation=0.1859602975543595, pvalue=0.5628182010991734)\n",
            "Unexp vs Bad SpearmanrResult(correlation=0.28045824389428403, pvalue=0.3772588501827434)\n",
            "Goal-Fail vs Good SpearmanrResult(correlation=-0.5269471574768274, pvalue=0.07835156579467607)\n",
            "Goal-Fail vs Bad SpearmanrResult(correlation=0.22, pvalue=0.49204531484512315)\n",
            "Good vs Bad SpearmanrResult(correlation=-0.6207597196033837, pvalue=0.031240499686436343)\n",
            "sam_driving\n",
            "Unexp vs Goal-Fail SpearmanrResult(correlation=0.7858966997377889, pvalue=0.004135164341022183)\n",
            "Unexp vs Good SpearmanrResult(correlation=-0.7134496217805985, pvalue=0.013691581900540878)\n",
            "Unexp vs Bad SpearmanrResult(correlation=0.8364936227356189, pvalue=0.0013286893039853192)\n",
            "Goal-Fail vs Good SpearmanrResult(correlation=-0.5333643694753859, pvalue=0.09110032519633099)\n",
            "Goal-Fail vs Bad SpearmanrResult(correlation=0.5068194519411788, pvalue=0.11159804676874922)\n",
            "Good vs Bad SpearmanrResult(correlation=-0.7806374328073595, pvalue=0.0045747106996590885)\n",
            "sean_call\n",
            "Unexp vs Goal-Fail SpearmanrResult(correlation=0.8799080984615733, pvalue=0.0007852938272121402)\n",
            "Unexp vs Good SpearmanrResult(correlation=-0.8338806453270445, pvalue=0.0027123844051455885)\n",
            "Unexp vs Bad SpearmanrResult(correlation=0.960272365463578, pvalue=1.0387058948077604e-05)\n",
            "Goal-Fail vs Good SpearmanrResult(correlation=-0.8508712596230341, pvalue=0.001800152746866531)\n",
            "Goal-Fail vs Bad SpearmanrResult(correlation=0.9209109202723808, pvalue=0.0001554599839458921)\n",
            "Good vs Bad SpearmanrResult(correlation=-0.8488746876271653, pvalue=0.0018937040972810712)\n",
            "steve_gardening\n",
            "Unexp vs Goal-Fail SpearmanrResult(correlation=0.28171609100277567, pvalue=0.40132283613817055)\n",
            "Unexp vs Good SpearmanrResult(correlation=-0.0825719577077101, pvalue=0.8092765948431375)\n",
            "Unexp vs Bad SpearmanrResult(correlation=0.7596301636248324, pvalue=0.006680615669876112)\n",
            "Goal-Fail vs Good SpearmanrResult(correlation=-0.010050251256281407, pvalue=0.9766036672077929)\n",
            "Goal-Fail vs Bad SpearmanrResult(correlation=0.4382885440845361, pvalue=0.1775329395484505)\n",
            "Good vs Bad SpearmanrResult(correlation=-0.29471126240167084, pvalue=0.3789885176628931)\n"
          ]
        }
      ]
    },
    {
      "cell_type": "markdown",
      "metadata": {
        "id": "zfmaESN9sPIk"
      },
      "source": [
        "Pearson is perhaps correct, but certainly not meaningful. There is _some_ relationship between the two things, but I cannot correlate them because many of the categories do not overlap.\n",
        "\n",
        "Therefore, I am comparing variance with no variance, and it cannot correlate.\n",
        "\n",
        "The Obvious Solution: rank the categories.\n",
        "Spearman gives us useful info.\n",
        "\n"
      ],
      "id": "zfmaESN9sPIk"
    },
    {
      "cell_type": "code",
      "metadata": {
        "id": "IZ_d-wwxJczD"
      },
      "source": [
        ""
      ],
      "id": "IZ_d-wwxJczD",
      "execution_count": 19,
      "outputs": []
    },
    {
      "cell_type": "markdown",
      "metadata": {
        "id": "after-sweden"
      },
      "source": [
        "# Subsumption of Answers\n",
        "Maybe a bit like Foster Diversity.  The extent to which one condition’s answers are subsumed in another. So, the extent to which B’s answers are a subset of A’s answers where A and B are answers by X no of people to Y no of materials."
      ],
      "id": "after-sweden"
    },
    {
      "cell_type": "markdown",
      "metadata": {
        "id": "U3nC1pS9x19g"
      },
      "source": [
        "## Intersection\n",
        "The first measure is the intersection of answers (using the category-labels for answers ) between A and B, scaled by the N of the answers in B (or maybe  N = (A+B)/2).  This starts to look like Jaccards and some of those other measures.    "
      ],
      "id": "U3nC1pS9x19g"
    },
    {
      "cell_type": "code",
      "metadata": {
        "colab": {
          "base_uri": "https://localhost:8080/",
          "height": 204
        },
        "id": "hrF4SCrBx9t0",
        "outputId": "d6ff9094-7bee-4a52-f2d5-6f86f0e10cbc"
      },
      "source": [
        "ans_cats_per_group = expt1.groupby(['material','var_feature1'])['best_ans'].unique().reset_index()\n",
        "ans_cats_per_group.head(5)"
      ],
      "id": "hrF4SCrBx9t0",
      "execution_count": 23,
      "outputs": [
        {
          "output_type": "execute_result",
          "data": {
            "text/html": [
              "<div>\n",
              "<style scoped>\n",
              "    .dataframe tbody tr th:only-of-type {\n",
              "        vertical-align: middle;\n",
              "    }\n",
              "\n",
              "    .dataframe tbody tr th {\n",
              "        vertical-align: top;\n",
              "    }\n",
              "\n",
              "    .dataframe thead th {\n",
              "        text-align: right;\n",
              "    }\n",
              "</style>\n",
              "<table border=\"1\" class=\"dataframe\">\n",
              "  <thead>\n",
              "    <tr style=\"text-align: right;\">\n",
              "      <th></th>\n",
              "      <th>material</th>\n",
              "      <th>var_feature1</th>\n",
              "      <th>best_ans</th>\n",
              "    </tr>\n",
              "  </thead>\n",
              "  <tbody>\n",
              "    <tr>\n",
              "      <th>0</th>\n",
              "      <td>alan_plane</td>\n",
              "      <td>GOAL-FAIL</td>\n",
              "      <td>[ap_neg_ans6, ap_neg_ans3, ap_neg_ans5, ap_neg...</td>\n",
              "    </tr>\n",
              "    <tr>\n",
              "      <th>1</th>\n",
              "      <td>alan_plane</td>\n",
              "      <td>UNEXP</td>\n",
              "      <td>[ap_neg_ans3, ap_neg_ans6, ap_neg_ans2, ap_neg...</td>\n",
              "    </tr>\n",
              "    <tr>\n",
              "      <th>2</th>\n",
              "      <td>alan_plane</td>\n",
              "      <td>UNEXP-BAD</td>\n",
              "      <td>[ap_neg_ans3, ap_neg_ans1, ap_neg_ans6, ap_neg...</td>\n",
              "    </tr>\n",
              "    <tr>\n",
              "      <th>3</th>\n",
              "      <td>alan_plane</td>\n",
              "      <td>UNEXP-GOOD</td>\n",
              "      <td>[ap_pos_ans2, ap_pos_ans5, ap_pos_ans4, ap_oth...</td>\n",
              "    </tr>\n",
              "    <tr>\n",
              "      <th>4</th>\n",
              "      <td>anna_interview</td>\n",
              "      <td>GOAL-FAIL</td>\n",
              "      <td>[ai_neg_ans1, ai_neg_ans2, ai_neg_ans3, ai_neg...</td>\n",
              "    </tr>\n",
              "  </tbody>\n",
              "</table>\n",
              "</div>"
            ],
            "text/plain": [
              "         material  ...                                           best_ans\n",
              "0      alan_plane  ...  [ap_neg_ans6, ap_neg_ans3, ap_neg_ans5, ap_neg...\n",
              "1      alan_plane  ...  [ap_neg_ans3, ap_neg_ans6, ap_neg_ans2, ap_neg...\n",
              "2      alan_plane  ...  [ap_neg_ans3, ap_neg_ans1, ap_neg_ans6, ap_neg...\n",
              "3      alan_plane  ...  [ap_pos_ans2, ap_pos_ans5, ap_pos_ans4, ap_oth...\n",
              "4  anna_interview  ...  [ai_neg_ans1, ai_neg_ans2, ai_neg_ans3, ai_neg...\n",
              "\n",
              "[5 rows x 3 columns]"
            ]
          },
          "metadata": {},
          "execution_count": 23
        }
      ]
    },
    {
      "cell_type": "code",
      "metadata": {
        "colab": {
          "base_uri": "https://localhost:8080/"
        },
        "id": "ExH-ltX80A5S",
        "outputId": "1cc91789-fcd2-4332-b2a9-f0c9d0af5ae4"
      },
      "source": [
        "unexp_alan_plane = set(ans_cats_per_group[\n",
        "                   (ans_cats_per_group['material']=='alan_plane') &\n",
        "                   (ans_cats_per_group['var_feature1']=='UNEXP')\n",
        "                   ]['best_ans'].to_list()[0])\n",
        "\n",
        "goal_fail_alan_plane = set(ans_cats_per_group[\n",
        "                   (ans_cats_per_group['material']=='alan_plane') &\n",
        "                   (ans_cats_per_group['var_feature1']=='GOAL-FAIL')\n",
        "                   ]['best_ans'].to_list()[0])\n",
        "\n",
        "print('union', unexp_alan_plane.union(goal_fail_alan_plane))\n",
        "print('intersection', unexp_alan_plane.intersection(goal_fail_alan_plane))\n",
        "# print(goal_fail_alan_plane.difference(unexp_alan_plane))"
      ],
      "id": "ExH-ltX80A5S",
      "execution_count": 26,
      "outputs": [
        {
          "output_type": "stream",
          "name": "stdout",
          "text": [
            "union {'ap_neg_ans3', 'ap_neg_ans4', 'ap_other', 'ap_neg_ans6', 'ap_neg_ans5', 'ap_pos_ans2', 'ap_neg_ans1', 'ap_neg_ans2'}\n",
            "intersection {'ap_neg_ans3', 'ap_other', 'ap_neg_ans6', 'ap_neg_ans5', 'ap_neg_ans1', 'ap_neg_ans2'}\n"
          ]
        }
      ]
    },
    {
      "cell_type": "code",
      "metadata": {
        "colab": {
          "base_uri": "https://localhost:8080/"
        },
        "id": "8Q0vM09UGiHk",
        "outputId": "9c8f607b-0e48-4248-d9c4-797f05afc4a0"
      },
      "source": [
        "union = len(unexp_alan_plane.union(goal_fail_alan_plane))\n",
        "intersection = len(unexp_alan_plane.intersection(goal_fail_alan_plane))\n",
        "\n",
        "intersection/union"
      ],
      "id": "8Q0vM09UGiHk",
      "execution_count": 27,
      "outputs": [
        {
          "output_type": "execute_result",
          "data": {
            "text/plain": [
              "0.75"
            ]
          },
          "metadata": {},
          "execution_count": 27
        }
      ]
    },
    {
      "cell_type": "code",
      "metadata": {
        "id": "OUr1qIicG4NZ"
      },
      "source": [
        "jaccards = {}\n",
        "\n",
        "for mat in materials:\n",
        "  unexp = set(ans_cats_per_group[\n",
        "                   (ans_cats_per_group['material']==mat) &\n",
        "                   (ans_cats_per_group['var_feature1']=='UNEXP')\n",
        "                   ]['best_ans'].to_list()[0])\n",
        "\n",
        "  goal_fail = set(ans_cats_per_group[\n",
        "                   (ans_cats_per_group['material']==mat) &\n",
        "                   (ans_cats_per_group['var_feature1']=='GOAL-FAIL')\n",
        "                   ]['best_ans'].to_list()[0]) \n",
        "  \n",
        "  good = set(ans_cats_per_group[\n",
        "                   (ans_cats_per_group['material']==mat) &\n",
        "                   (ans_cats_per_group['var_feature1']=='UNEXP-GOOD')\n",
        "                   ]['best_ans'].to_list()[0])\n",
        "  \n",
        "  bad = set(ans_cats_per_group[\n",
        "                   (ans_cats_per_group['material']==mat) &\n",
        "                   (ans_cats_per_group['var_feature1']=='UNEXP-BAD')\n",
        "                   ]['best_ans'].to_list()[0])\n",
        "  \n",
        "  mat_dict = {}\n",
        "\n",
        "  for pair in [[unexp,goal_fail,'UNEXPvGOAL-FAIL'],[unexp,good,'UNEXPvUNEXP-GOOD'],\n",
        "               [unexp,bad,'UNEXPvUNEXP-BAD'],[goal_fail,good,'GOAL-FAILvUNEXP-GOOD'],\n",
        "               [goal_fail,bad,'GOAL-FAILvUNEXP-BAD'],[good,bad,'UNEXP-GOODvUNEXP-BAD']]:\n",
        "    intersection = len(pair[0].intersection(pair[1]))\n",
        "    union = len(pair[0].union(pair[1]))\n",
        "    mat_dict[pair[2]] = intersection/union\n",
        "    jaccards[mat] = mat_dict\n"
      ],
      "id": "OUr1qIicG4NZ",
      "execution_count": 34,
      "outputs": []
    },
    {
      "cell_type": "code",
      "metadata": {
        "colab": {
          "base_uri": "https://localhost:8080/"
        },
        "id": "0c0qSvXxKh-T",
        "outputId": "ac28cd74-6e8b-4082-b871-ed46526dbd94"
      },
      "source": [
        "jaccards"
      ],
      "id": "0c0qSvXxKh-T",
      "execution_count": 35,
      "outputs": [
        {
          "output_type": "execute_result",
          "data": {
            "text/plain": [
              "{'alan_plane': {'GOAL-FAILvUNEXP-BAD': 0.8333333333333334,\n",
              "  'GOAL-FAILvUNEXP-GOOD': 0.18181818181818182,\n",
              "  'UNEXP-GOODvUNEXP-BAD': 0.2,\n",
              "  'UNEXPvGOAL-FAIL': 0.75,\n",
              "  'UNEXPvUNEXP-BAD': 0.625,\n",
              "  'UNEXPvUNEXP-GOOD': 0.25},\n",
              " 'anna_interview': {'GOAL-FAILvUNEXP-BAD': 0.6666666666666666,\n",
              "  'GOAL-FAILvUNEXP-GOOD': 0.2,\n",
              "  'UNEXP-GOODvUNEXP-BAD': 0.1111111111111111,\n",
              "  'UNEXPvGOAL-FAIL': 0.625,\n",
              "  'UNEXPvUNEXP-BAD': 0.5714285714285714,\n",
              "  'UNEXPvUNEXP-GOOD': 0.3},\n",
              " 'belinda_meeting': {'GOAL-FAILvUNEXP-BAD': 0.6666666666666666,\n",
              "  'GOAL-FAILvUNEXP-GOOD': 0.3333333333333333,\n",
              "  'UNEXP-GOODvUNEXP-BAD': 0.18181818181818182,\n",
              "  'UNEXPvGOAL-FAIL': 0.6,\n",
              "  'UNEXPvUNEXP-BAD': 0.7,\n",
              "  'UNEXPvUNEXP-GOOD': 0.4},\n",
              " 'bill_holiday': {'GOAL-FAILvUNEXP-BAD': 1.0,\n",
              "  'GOAL-FAILvUNEXP-GOOD': 0.2,\n",
              "  'UNEXP-GOODvUNEXP-BAD': 0.2,\n",
              "  'UNEXPvGOAL-FAIL': 0.6,\n",
              "  'UNEXPvUNEXP-BAD': 0.6,\n",
              "  'UNEXPvUNEXP-GOOD': 0.2727272727272727},\n",
              " 'bob_job': {'GOAL-FAILvUNEXP-BAD': 0.42857142857142855,\n",
              "  'GOAL-FAILvUNEXP-GOOD': 0.3333333333333333,\n",
              "  'UNEXP-GOODvUNEXP-BAD': 0.25,\n",
              "  'UNEXPvGOAL-FAIL': 0.375,\n",
              "  'UNEXPvUNEXP-BAD': 0.625,\n",
              "  'UNEXPvUNEXP-GOOD': 0.5714285714285714},\n",
              " 'edith_exam': {'GOAL-FAILvUNEXP-BAD': 0.7142857142857143,\n",
              "  'GOAL-FAILvUNEXP-GOOD': 0.18181818181818182,\n",
              "  'UNEXP-GOODvUNEXP-BAD': 0.18181818181818182,\n",
              "  'UNEXPvGOAL-FAIL': 0.75,\n",
              "  'UNEXPvUNEXP-BAD': 0.75,\n",
              "  'UNEXPvUNEXP-GOOD': 0.25},\n",
              " 'john_party': {'GOAL-FAILvUNEXP-BAD': 0.6,\n",
              "  'GOAL-FAILvUNEXP-GOOD': 0.1,\n",
              "  'UNEXP-GOODvUNEXP-BAD': 0.0,\n",
              "  'UNEXPvGOAL-FAIL': 0.375,\n",
              "  'UNEXPvUNEXP-BAD': 0.375,\n",
              "  'UNEXPvUNEXP-GOOD': 0.2727272727272727},\n",
              " 'karen_bus': {'GOAL-FAILvUNEXP-BAD': 0.375,\n",
              "  'GOAL-FAILvUNEXP-GOOD': 0.42857142857142855,\n",
              "  'UNEXP-GOODvUNEXP-BAD': 0.1,\n",
              "  'UNEXPvGOAL-FAIL': 0.5555555555555556,\n",
              "  'UNEXPvUNEXP-BAD': 0.5,\n",
              "  'UNEXPvUNEXP-GOOD': 0.5555555555555556},\n",
              " 'katie_kitten': {'GOAL-FAILvUNEXP-BAD': 0.3,\n",
              "  'GOAL-FAILvUNEXP-GOOD': 0.375,\n",
              "  'UNEXP-GOODvUNEXP-BAD': 0.3333333333333333,\n",
              "  'UNEXPvGOAL-FAIL': 0.5,\n",
              "  'UNEXPvUNEXP-BAD': 0.7777777777777778,\n",
              "  'UNEXPvUNEXP-GOOD': 0.4},\n",
              " 'louise_shopping': {'GOAL-FAILvUNEXP-BAD': 0.8333333333333334,\n",
              "  'GOAL-FAILvUNEXP-GOOD': 0.2222222222222222,\n",
              "  'UNEXP-GOODvUNEXP-BAD': 0.2,\n",
              "  'UNEXPvGOAL-FAIL': 0.4,\n",
              "  'UNEXPvUNEXP-BAD': 0.5,\n",
              "  'UNEXPvUNEXP-GOOD': 0.6666666666666666},\n",
              " 'lucy_loan': {'GOAL-FAILvUNEXP-BAD': 0.6666666666666666,\n",
              "  'GOAL-FAILvUNEXP-GOOD': 0.3333333333333333,\n",
              "  'UNEXP-GOODvUNEXP-BAD': 0.4,\n",
              "  'UNEXPvGOAL-FAIL': 0.3333333333333333,\n",
              "  'UNEXPvUNEXP-BAD': 0.4,\n",
              "  'UNEXPvUNEXP-GOOD': 1.0},\n",
              " 'mary_food': {'GOAL-FAILvUNEXP-BAD': 0.6,\n",
              "  'GOAL-FAILvUNEXP-GOOD': 0.2857142857142857,\n",
              "  'UNEXP-GOODvUNEXP-BAD': 0.2857142857142857,\n",
              "  'UNEXPvGOAL-FAIL': 0.42857142857142855,\n",
              "  'UNEXPvUNEXP-BAD': 0.6666666666666666,\n",
              "  'UNEXPvUNEXP-GOOD': 0.5714285714285714},\n",
              " 'michael_tea': {'GOAL-FAILvUNEXP-BAD': 0.3333333333333333,\n",
              "  'GOAL-FAILvUNEXP-GOOD': 0.1,\n",
              "  'UNEXP-GOODvUNEXP-BAD': 0.2222222222222222,\n",
              "  'UNEXPvGOAL-FAIL': 0.2727272727272727,\n",
              "  'UNEXPvUNEXP-BAD': 0.75,\n",
              "  'UNEXPvUNEXP-GOOD': 0.4444444444444444},\n",
              " 'peter_college': {'GOAL-FAILvUNEXP-BAD': 0.5714285714285714,\n",
              "  'GOAL-FAILvUNEXP-GOOD': 0.25,\n",
              "  'UNEXP-GOODvUNEXP-BAD': 0.2222222222222222,\n",
              "  'UNEXPvGOAL-FAIL': 0.4444444444444444,\n",
              "  'UNEXPvUNEXP-BAD': 0.75,\n",
              "  'UNEXPvUNEXP-GOOD': 0.4444444444444444},\n",
              " 'rebecca_swimming': {'GOAL-FAILvUNEXP-BAD': 0.5555555555555556,\n",
              "  'GOAL-FAILvUNEXP-GOOD': 0.2222222222222222,\n",
              "  'UNEXP-GOODvUNEXP-BAD': 0.18181818181818182,\n",
              "  'UNEXPvGOAL-FAIL': 0.5,\n",
              "  'UNEXPvUNEXP-BAD': 0.8888888888888888,\n",
              "  'UNEXPvUNEXP-GOOD': 0.2727272727272727},\n",
              " 'robert_essay': {'GOAL-FAILvUNEXP-BAD': 0.8571428571428571,\n",
              "  'GOAL-FAILvUNEXP-GOOD': 0.08333333333333333,\n",
              "  'UNEXP-GOODvUNEXP-BAD': 0.07692307692307693,\n",
              "  'UNEXPvGOAL-FAIL': 0.75,\n",
              "  'UNEXPvUNEXP-BAD': 0.875,\n",
              "  'UNEXPvUNEXP-GOOD': 0.15384615384615385},\n",
              " 'sally_wine': {'GOAL-FAILvUNEXP-BAD': 0.5,\n",
              "  'GOAL-FAILvUNEXP-GOOD': 0.2,\n",
              "  'UNEXP-GOODvUNEXP-BAD': 0.09090909090909091,\n",
              "  'UNEXPvGOAL-FAIL': 0.5,\n",
              "  'UNEXPvUNEXP-BAD': 0.5,\n",
              "  'UNEXPvUNEXP-GOOD': 0.5},\n",
              " 'sam_driving': {'GOAL-FAILvUNEXP-BAD': 0.5714285714285714,\n",
              "  'GOAL-FAILvUNEXP-GOOD': 0.3,\n",
              "  'UNEXP-GOODvUNEXP-BAD': 0.09090909090909091,\n",
              "  'UNEXPvGOAL-FAIL': 0.7142857142857143,\n",
              "  'UNEXPvUNEXP-BAD': 0.8333333333333334,\n",
              "  'UNEXPvUNEXP-GOOD': 0.18181818181818182},\n",
              " 'sean_call': {'GOAL-FAILvUNEXP-BAD': 0.8,\n",
              "  'GOAL-FAILvUNEXP-GOOD': 0.0,\n",
              "  'UNEXP-GOODvUNEXP-BAD': 0.1,\n",
              "  'UNEXPvGOAL-FAIL': 0.6666666666666666,\n",
              "  'UNEXPvUNEXP-BAD': 0.8333333333333334,\n",
              "  'UNEXPvUNEXP-GOOD': 0.2},\n",
              " 'steve_gardening': {'GOAL-FAILvUNEXP-BAD': 0.3333333333333333,\n",
              "  'GOAL-FAILvUNEXP-GOOD': 0.3333333333333333,\n",
              "  'UNEXP-GOODvUNEXP-BAD': 0.3333333333333333,\n",
              "  'UNEXPvGOAL-FAIL': 0.4,\n",
              "  'UNEXPvUNEXP-BAD': 0.5555555555555556,\n",
              "  'UNEXPvUNEXP-GOOD': 0.5555555555555556}}"
            ]
          },
          "metadata": {},
          "execution_count": 35
        }
      ]
    },
    {
      "cell_type": "markdown",
      "metadata": {
        "id": "iIoHbGO5x2B0"
      },
      "source": [
        "\n",
        "## Unique\n",
        "The second measure is the no of answers in B that are not in A.\n",
        "\n",
        "Another way to do this is just to count unique answers aka answer categories, which your graphs were sort of doing.   So, how many common answer categories are used (of the total set of answer-categories for a material, aggregated-summed over all answer categories).   And how many unique answer categories are used in B and not in A.\n"
      ],
      "id": "iIoHbGO5x2B0"
    },
    {
      "cell_type": "code",
      "metadata": {
        "id": "Y2-xz_si0Axt"
      },
      "source": [
        ""
      ],
      "id": "Y2-xz_si0Axt",
      "execution_count": null,
      "outputs": []
    },
    {
      "cell_type": "markdown",
      "metadata": {
        "id": "r8JB6BLbHJTF"
      },
      "source": [
        "## TF_IDF / NMF\n",
        "\n",
        "## Matrix block modelling"
      ],
      "id": "r8JB6BLbHJTF"
    },
    {
      "cell_type": "code",
      "metadata": {
        "colab": {
          "base_uri": "https://localhost:8080/",
          "height": 224
        },
        "id": "qaNbQeHj0A89",
        "outputId": "86736af0-7f74-4947-bbec-7b4142f79963"
      },
      "source": [
        "#get a tf-idf matrix (per material) of the group by the answer category, \n",
        "#with the cells filled in as the proportion responses\n",
        "prop_agree_dfs={}\n",
        "for mat in materials:\n",
        "  prop_agree_dfs[mat] = prop_agree[prop_agree['material']==mat].pivot(\n",
        "      index='var_feature1',\n",
        "      columns='best_ans',\n",
        "      values='prop_agree'\n",
        "      )\n",
        "\n",
        "prop_agree_dfs['alan_plane']"
      ],
      "id": "qaNbQeHj0A89",
      "execution_count": 15,
      "outputs": [
        {
          "output_type": "execute_result",
          "data": {
            "text/html": [
              "<div>\n",
              "<style scoped>\n",
              "    .dataframe tbody tr th:only-of-type {\n",
              "        vertical-align: middle;\n",
              "    }\n",
              "\n",
              "    .dataframe tbody tr th {\n",
              "        vertical-align: top;\n",
              "    }\n",
              "\n",
              "    .dataframe thead th {\n",
              "        text-align: right;\n",
              "    }\n",
              "</style>\n",
              "<table border=\"1\" class=\"dataframe\">\n",
              "  <thead>\n",
              "    <tr style=\"text-align: right;\">\n",
              "      <th>best_ans</th>\n",
              "      <th>ap_neg_ans1</th>\n",
              "      <th>ap_neg_ans2</th>\n",
              "      <th>ap_neg_ans3</th>\n",
              "      <th>ap_neg_ans4</th>\n",
              "      <th>ap_neg_ans5</th>\n",
              "      <th>ap_neg_ans6</th>\n",
              "      <th>ap_other</th>\n",
              "      <th>ap_pos_ans1</th>\n",
              "      <th>ap_pos_ans2</th>\n",
              "      <th>ap_pos_ans3</th>\n",
              "      <th>ap_pos_ans4</th>\n",
              "      <th>ap_pos_ans5</th>\n",
              "    </tr>\n",
              "    <tr>\n",
              "      <th>var_feature1</th>\n",
              "      <th></th>\n",
              "      <th></th>\n",
              "      <th></th>\n",
              "      <th></th>\n",
              "      <th></th>\n",
              "      <th></th>\n",
              "      <th></th>\n",
              "      <th></th>\n",
              "      <th></th>\n",
              "      <th></th>\n",
              "      <th></th>\n",
              "      <th></th>\n",
              "    </tr>\n",
              "  </thead>\n",
              "  <tbody>\n",
              "    <tr>\n",
              "      <th>GOAL-FAIL</th>\n",
              "      <td>0.066667</td>\n",
              "      <td>0.033333</td>\n",
              "      <td>0.100</td>\n",
              "      <td>0.0000</td>\n",
              "      <td>0.20000</td>\n",
              "      <td>0.466667</td>\n",
              "      <td>0.133333</td>\n",
              "      <td>0.000000</td>\n",
              "      <td>0.000000</td>\n",
              "      <td>0.000000</td>\n",
              "      <td>0.000000</td>\n",
              "      <td>0.000000</td>\n",
              "    </tr>\n",
              "    <tr>\n",
              "      <th>UNEXP</th>\n",
              "      <td>0.281250</td>\n",
              "      <td>0.125000</td>\n",
              "      <td>0.125</td>\n",
              "      <td>0.0625</td>\n",
              "      <td>0.03125</td>\n",
              "      <td>0.187500</td>\n",
              "      <td>0.093750</td>\n",
              "      <td>0.000000</td>\n",
              "      <td>0.093750</td>\n",
              "      <td>0.000000</td>\n",
              "      <td>0.000000</td>\n",
              "      <td>0.000000</td>\n",
              "    </tr>\n",
              "    <tr>\n",
              "      <th>UNEXP-BAD</th>\n",
              "      <td>0.437500</td>\n",
              "      <td>0.000000</td>\n",
              "      <td>0.125</td>\n",
              "      <td>0.0000</td>\n",
              "      <td>0.12500</td>\n",
              "      <td>0.250000</td>\n",
              "      <td>0.062500</td>\n",
              "      <td>0.000000</td>\n",
              "      <td>0.000000</td>\n",
              "      <td>0.000000</td>\n",
              "      <td>0.000000</td>\n",
              "      <td>0.000000</td>\n",
              "    </tr>\n",
              "    <tr>\n",
              "      <th>UNEXP-GOOD</th>\n",
              "      <td>0.000000</td>\n",
              "      <td>0.000000</td>\n",
              "      <td>0.000</td>\n",
              "      <td>0.0000</td>\n",
              "      <td>0.00000</td>\n",
              "      <td>0.030303</td>\n",
              "      <td>0.212121</td>\n",
              "      <td>0.060606</td>\n",
              "      <td>0.272727</td>\n",
              "      <td>0.090909</td>\n",
              "      <td>0.151515</td>\n",
              "      <td>0.181818</td>\n",
              "    </tr>\n",
              "  </tbody>\n",
              "</table>\n",
              "</div>"
            ],
            "text/plain": [
              "best_ans      ap_neg_ans1  ap_neg_ans2  ...  ap_pos_ans4  ap_pos_ans5\n",
              "var_feature1                            ...                          \n",
              "GOAL-FAIL        0.066667     0.033333  ...     0.000000     0.000000\n",
              "UNEXP            0.281250     0.125000  ...     0.000000     0.000000\n",
              "UNEXP-BAD        0.437500     0.000000  ...     0.000000     0.000000\n",
              "UNEXP-GOOD       0.000000     0.000000  ...     0.151515     0.181818\n",
              "\n",
              "[4 rows x 12 columns]"
            ]
          },
          "metadata": {},
          "execution_count": 15
        }
      ]
    },
    {
      "cell_type": "code",
      "metadata": {
        "id": "9OKdeHBr5MoD"
      },
      "source": [
        ""
      ],
      "id": "9OKdeHBr5MoD",
      "execution_count": null,
      "outputs": []
    },
    {
      "cell_type": "code",
      "metadata": {
        "id": "l0KHp5ar5Mqv"
      },
      "source": [
        ""
      ],
      "id": "l0KHp5ar5Mqv",
      "execution_count": null,
      "outputs": []
    },
    {
      "cell_type": "code",
      "metadata": {
        "id": "W4ff_tmb5MtG"
      },
      "source": [
        ""
      ],
      "id": "W4ff_tmb5MtG",
      "execution_count": null,
      "outputs": []
    },
    {
      "cell_type": "markdown",
      "metadata": {
        "id": "spare-expansion"
      },
      "source": [
        "## Mothilal-Diversity : \n",
        "If we turn each answer into a set of word features (noting synonyms, and excluding stopwords aggressively) then we could do all non-identical pairwise comparisons between the answers in a particular condition  (basically ignoring answer categories).   Then for each condition we can get how much all those answers are differing from each other.   We can describe this as a mean for each condition but we could also look at the spread of the metric we are getting (or even break it down in some what by material-answer-category).   For material-answer-category, you could get an average of an average though that seems less useful than just comparing all answers to one another within the condition. At the material, level I guess you could show that there was every little diversity between the answers for a particular answer-category or you could group all the feature-words within a category (without repetition) and then do pairwise comparisons between all answer-categories for a material in a given condition; these could then be compared at the material level across conditions."
      ],
      "id": "spare-expansion"
    },
    {
      "cell_type": "code",
      "metadata": {
        "id": "qZVYE1RYPcVD"
      },
      "source": [
        "\n"
      ],
      "id": "qZVYE1RYPcVD",
      "execution_count": 68,
      "outputs": []
    },
    {
      "cell_type": "markdown",
      "metadata": {
        "id": "derived-player"
      },
      "source": [
        "## Smyth-diversity: \n",
        "the fraction of unique features that exist as difference features in the set of all valid counterfactuals produced; thus, a feature diversity of 0.1 means that 10% of features participated (as difference features) in the counterfactuals generated. Does not seem to be directly applicable; though a variant may be possible; though the more I think about it it starts to sound like a version of our mutability measure.  Not an option.\n"
      ],
      "id": "derived-player"
    },
    {
      "cell_type": "code",
      "metadata": {
        "id": "higher-reasoning"
      },
      "source": [
        ""
      ],
      "id": "higher-reasoning",
      "execution_count": null,
      "outputs": []
    },
    {
      "cell_type": "code",
      "metadata": {
        "id": "discrete-thousand"
      },
      "source": [
        ""
      ],
      "id": "discrete-thousand",
      "execution_count": null,
      "outputs": []
    },
    {
      "cell_type": "code",
      "metadata": {
        "id": "small-trinity"
      },
      "source": [
        ""
      ],
      "id": "small-trinity",
      "execution_count": null,
      "outputs": []
    },
    {
      "cell_type": "markdown",
      "metadata": {
        "id": "sealed-croatia"
      },
      "source": [
        "# Mutability\n",
        "This is trying to measure the degree of mutational change between the original scenario and the answer given by people (nb not unrelated to diversity).  It may rely on some form of the tf-idf/word2vec similarity measure we have developed already.  Though there may be fine tuning of this or indeed a significant change (see below, we can discuss).   Recall, we discussed the need to partition the words in the answer into (a) those originally, in the scenario, (b) those that are synonymous with those in the original scenario (could be established by a word2vec comparison with some threshold) and (c) those words that are wholly new.   NB the latter will bear some predictive closeness to the words in the original scenario (so that could be you measure the extent of the terms inferability rather than similarity). This is like a coherence score, and should be the best measure of mutability.   Talk to me about this…if this does not show some change in bizarreness then something is wrong. But, it is not a sim score on a vector, it is like the old LSA document-to-word comparison or some such thing. Must be possible in the word2vec universe.  So, you can get the mean w2v-coherent for each answer and then look at these overall across all materials in all conditions.   There appear to be 3 levels of averaging (i) each word in an answer has this coherence score which you could average or sum+normalise), (ii) each overall-answer-score ( a mean) can be averaged for the material in a condition and or (iii) averaged independently for the whole condition. Again we need to discuss.  I think how we aggregate these scores will be important.   Found this, may be helpful, but not looked at in detail:\n",
        "Your problem can be solved with Word2vec as well as Doc2vec. Doc2vec would give better results because it takes sentences into account while training the model.\n",
        "## Doc2vec solution\n",
        "You can train your doc2vec model following this link. You may want to perform some pre-processing steps like removing all stop words (words like \"the\", \"an\", etc. that don't add much meaning to the sentence). Once you train your model, you can find the similar sentences using the following code.\n",
        "import gensim \n",
        "model = gensim.models.Doc2Vec.load('saved_doc2vec_model') \n",
        "new_sentence = \"I opened a new mailbox\".split(\" \") \n",
        "model.docvecs.most_similar(positive=[model.infer_vector(new_sentence)],topn=5)\n"
      ],
      "id": "sealed-croatia"
    },
    {
      "cell_type": "markdown",
      "metadata": {
        "id": "exotic-scottish"
      },
      "source": [
        "## Transformer Model Solution\n",
        "AS I see it, you need a metric for how predictable each word in the answer (excluding stop words) is from the words in the original scenario.   This will give you the distance of the answer (as a mutation from the scenario).   It could still be done with similarity but I prefer the idea of singling out the non-scenario words and seeing how far each is as a prediction from the scenario (seems much more sensitive to me, when you do similarity, you mix back in the repeating elements and that could make the answer seem closer than it actually is…if you see what I mean).\n",
        "THAT is doable w/ BERT or GPT…\n"
      ],
      "id": "exotic-scottish"
    },
    {
      "cell_type": "code",
      "metadata": {
        "id": "quantitative-enhancement"
      },
      "source": [
        ""
      ],
      "id": "quantitative-enhancement",
      "execution_count": null,
      "outputs": []
    },
    {
      "cell_type": "code",
      "metadata": {
        "id": "wired-creek"
      },
      "source": [
        ""
      ],
      "id": "wired-creek",
      "execution_count": null,
      "outputs": []
    }
  ]
}